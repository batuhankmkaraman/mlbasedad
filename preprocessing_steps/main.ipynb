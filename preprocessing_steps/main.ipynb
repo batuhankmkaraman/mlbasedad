{
 "cells": [
  {
   "cell_type": "code",
   "execution_count": null,
   "metadata": {},
   "outputs": [],
   "source": [
    "import os\n",
    "import pandas as pd\n",
    "os.chdir('/home/kbk46/bkk/pone/')\n",
    "exec(open('acquisition/acquisitionstep1.py').read())\n",
    "acquisitionstep1 = AcquisitionStep1()\n",
    "acquisitionstep1.read('/share/sablab/nfs04/data/pone3d/data/raw_data/')\n",
    "df = acquisitionstep1.df_raw\n",
    "# acquisitionstep1.apply_all(path_to_read='/share/sablab/nfs04/users/kbk46/pone/data/raw_data/',\n",
    "#                path_to_write='/share/sablab/nfs04/users/kbk46/pone/data/data_acquisition_outputs/')"
   ]
  },
  {
   "cell_type": "code",
   "execution_count": null,
   "metadata": {},
   "outputs": [],
   "source": [
    "import os\n",
    "import pandas as pd\n",
    "os.chdir('/home/kbk46/bkk/pone/')\n",
    "exec(open('acquisition/acquisitionstep2.py').read())\n",
    "acquisitionstep2 = AcquisitionStep2()\n",
    "acquisitionstep2.apply_all(path_to_read='/share/sablab/nfs04/data/pone3d/data/data_acquisition_outputs/',\n",
    "               path_to_write='/share/sablab/nfs04/data/pone3d/data/data_acquisition_outputs/')\n",
    "df = acquisitionstep2.df"
   ]
  },
  {
   "cell_type": "code",
   "execution_count": null,
   "metadata": {},
   "outputs": [],
   "source": [
    "import os\n",
    "import pandas as pd\n",
    "os.chdir('/home/kbk46/bkk/pone/')\n",
    "exec(open('acquisition/acquisitionstep3.py').read())\n",
    "acquisitionstep3 = AcquisitionStep3()\n",
    "acquisitionstep3.read('/share/sablab/nfs04/data/pone3d/data/data_acquisition_outputs/')\n",
    "acquisitionstep3.extract_longi_labels_and_months()\n",
    "longi_labels = acquisitionstep3.longi_labels\n",
    "# acquisitionstep3.apply_all(path_to_read='/share/sablab/nfs04/users/kbk46/pone/data/data_acquisition_outputs/',\n",
    "#                path_to_write='/share/sablab/nfs04/users/kbk46/pone/data/data_acquisition_outputs/')"
   ]
  },
  {
   "cell_type": "code",
   "execution_count": null,
   "metadata": {},
   "outputs": [],
   "source": [
    "np.sum(pd.isna(longi_labels['m0']))\n",
    "longi_labels = longi_labels.loc[pd.isna(longi_labels['m0'])]"
   ]
  },
  {
   "cell_type": "code",
   "execution_count": null,
   "metadata": {},
   "outputs": [],
   "source": [
    "df = df.loc[df['RID']==4003]"
   ]
  },
  {
   "cell_type": "code",
   "execution_count": null,
   "metadata": {},
   "outputs": [],
   "source": [
    "df = acquisitionstep3.df\n",
    "df_bl = df.loc[df['VISCODE']=='bl']\n",
    "df_bl = df_bl.loc[df_bl['M']==0, 'DX']\n",
    "np.sum(pd.isna(df_bl))"
   ]
  },
  {
   "cell_type": "code",
   "execution_count": null,
   "metadata": {},
   "outputs": [],
   "source": []
  },
  {
   "cell_type": "code",
   "execution_count": null,
   "metadata": {},
   "outputs": [],
   "source": [
    "df_dict = acquisitionstep4.df_dict.copy()"
   ]
  },
  {
   "cell_type": "code",
   "execution_count": null,
   "metadata": {},
   "outputs": [],
   "source": [
    "exec(open('acquisition/acquisitionstep4.py').read())\n",
    "acquisitionstep4 = AcquisitionStep4()\n",
    "acquisitionstep4.apply_all(path_to_read='/share/sablab/nfs04/users/kbk46/pone/data/data_acquisition_outputs/',\n",
    "               path_to_write='/share/sablab/nfs04/users/kbk46/pone/data/')"
   ]
  },
  {
   "cell_type": "code",
   "execution_count": null,
   "metadata": {},
   "outputs": [],
   "source": []
  },
  {
   "cell_type": "code",
   "execution_count": 2,
   "metadata": {},
   "outputs": [],
   "source": [
    "import os\n",
    "import pandas as pd"
   ]
  },
  {
   "cell_type": "code",
   "execution_count": 3,
   "metadata": {},
   "outputs": [],
   "source": [
    "os.chdir('/home/kbk46/bkk/pone/')\n",
    "exec(open('acquisition/acquisition_allsteps.py').read())\n",
    "aq_allsteps = AcquisitionAllSteps()\n",
    "aq_allsteps.apply(path_to_read='/share/sablab/nfs04/data/pone3d/data/raw_data/', \n",
    "                    path_to_write_aq='/share/sablab/nfs04/data/pone3d/data/data_acquisition_outputs/',\n",
    "                    path_to_write_splits='/share/sablab/nfs04/data/pone3d/splits/')\n",
    "print('acquired')\n",
    "exec(open('acquisition/preprocessor.py').read())\n",
    "preprocessor = Preprocessor()\n",
    "preprocessor.apply(path_to_splits='/share/sablab/nfs04/data/pone3d/splits/')"
   ]
  },
  {
   "cell_type": "code",
   "execution_count": null,
   "metadata": {},
   "outputs": [],
   "source": [
    "# # 3D\n",
    "# os.chdir('/home/kbk46/bkk/pone/')\n",
    "# exec(open('acquisition_allsteps.py').read())\n",
    "# aq_allsteps = AcquisitionAllSteps()\n",
    "# aq_allsteps.apply(path_to_read='/share/sablab/nfs04/users/kbk46/pone/data/raw_data/', \n",
    "#                     path_to_write_aq='/share/sablab/nfs04/users/kbk46/pone3d/data/data_acquisition_outputs/',\n",
    "#                     path_to_write_splits='/share/sablab/nfs04/users/kbk46/pone3d/data/splits/')\n",
    "# exec(open('acquisition/preprocessor.py').read())\n",
    "# preprocessor = Preprocessor()\n",
    "# preprocessor.apply(path_to_splits='/share/sablab/nfs04/users/kbk46/pone3d/data/splits/')"
   ]
  },
  {
   "cell_type": "code",
   "execution_count": null,
   "metadata": {},
   "outputs": [],
   "source": [
    "path_to_splits = '/share/sablab/nfs04/users/kbk46/pone/data/splits/'\n",
    "df_dict = pd.read_csv(path_to_splits+'random_dataset_DICT.csv', low_memory=False)"
   ]
  },
  {
   "cell_type": "code",
   "execution_count": null,
   "metadata": {},
   "outputs": [],
   "source": []
  }
 ],
 "metadata": {
  "kernelspec": {
   "display_name": "t18",
   "language": "python",
   "name": "t18"
  },
  "language_info": {
   "codemirror_mode": {
    "name": "ipython",
    "version": 3
   },
   "file_extension": ".py",
   "mimetype": "text/x-python",
   "name": "python",
   "nbconvert_exporter": "python",
   "pygments_lexer": "ipython3",
   "version": "3.8.16"
  },
  "orig_nbformat": 4
 },
 "nbformat": 4,
 "nbformat_minor": 2
}
